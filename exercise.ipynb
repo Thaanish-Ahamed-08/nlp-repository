{
 "cells": [
  {
   "cell_type": "code",
   "execution_count": null,
   "metadata": {},
   "outputs": [],
   "source": [
    "import torch"
   ]
  },
  {
   "cell_type": "code",
   "execution_count": null,
   "metadata": {},
   "outputs": [],
   "source": [
    "with open(\"./first-names.txt\",\"r\") as f:\n",
    "    words = f.read().splitlines()"
   ]
  },
  {
   "cell_type": "code",
   "execution_count": null,
   "metadata": {},
   "outputs": [],
   "source": [
    "words = [word for word in words if ' ' not in word]\n",
    "print(len(words))"
   ]
  },
  {
   "cell_type": "code",
   "execution_count": null,
   "metadata": {},
   "outputs": [],
   "source": [
    "chars = sorted(list(set(''.join(words))))\n",
    "stoi = {s:i for i,s in enumerate(chars)}\n",
    "itos = {i:s for i,s in enumerate(chars)}\n",
    "\n",
    "stoi['.'] = 0\n",
    "itos[0] = '.'"
   ]
  },
  {
   "cell_type": "code",
   "execution_count": null,
   "metadata": {},
   "outputs": [],
   "source": [
    "print(len(stoi))"
   ]
  },
  {
   "cell_type": "code",
   "execution_count": null,
   "metadata": {},
   "outputs": [],
   "source": [
    "print(len(stoi))\n",
    "len(itos)"
   ]
  },
  {
   "cell_type": "code",
   "execution_count": null,
   "metadata": {},
   "outputs": [],
   "source": [
    "#trigram takes two input predict the next one\n",
    "xs, ys = [], []\n",
    "for w in words:\n",
    "    tmp = ['.'] + list(w) + ['.']\n",
    "    for ch1, ch2, ch3 in zip(tmp,tmp[1:],tmp[2:]):\n",
    "        input = []\n",
    "        ix1, ix2, ix3 = stoi[ch1],stoi[ch2],stoi[ch3]\n",
    "        input.append(ix1)\n",
    "        input.append(ix2)\n",
    "\n",
    "        xs.append(input)\n",
    "        ys.append(ix3)\n",
    "\n",
    "\n",
    "xs = torch.tensor(xs)\n",
    "ys = torch.tensor(ys)\n",
    "num = int(xs.nelement() / 2)\n",
    "print(num)\n"
   ]
  },
  {
   "cell_type": "code",
   "execution_count": null,
   "metadata": {},
   "outputs": [],
   "source": [
    "xs"
   ]
  },
  {
   "cell_type": "code",
   "execution_count": null,
   "metadata": {},
   "outputs": [],
   "source": [
    "#trigram takes two input predict the next one\n",
    "xs, ys = [], []\n",
    "for w in words:\n",
    "    tmp = ['.'] + list(w) + ['.']\n",
    "    for ch1, ch2, ch3 in zip(tmp,tmp[1:],tmp[2:]):\n",
    "        input = []\n",
    "        ix1, ix2, ix3 = stoi[ch1],stoi[ch2],stoi[ch3]\n",
    "        input.append(ix1)\n",
    "        input.append(ix2)\n",
    "\n",
    "        xs.append(input)\n",
    "        ys.append(ix3)\n",
    "\n",
    "\n",
    "xs = torch.tensor(xs)\n",
    "ys = torch.tensor(ys)\n",
    "num = int(xs.nelement() / 2)\n",
    "print(num)\n",
    "\n",
    "import torch.nn.functional as F\n",
    "xenc = F.one_hot(xs, num_classes=54).float()\n",
    "generator = torch.Generator().manual_seed(2147483647)\n",
    "W1 = torch.randn((54,54),generator = generator, requires_grad=True)\n",
    "W2 = torch.randn((54,54),generator = generator, requires_grad=True)\n",
    "\n",
    "\n",
    "\n",
    "for i in range(100):\n",
    "    logits = xenc[:,0,] @ W1 + xenc[:,1,] @ W2\n",
    "    counts = torch.exp(logits)\n",
    "    prob = counts / counts.sum()\n",
    "    idx = torch.multinomial(prob,num_samples=1,replacement=True,generator=generator)\n",
    "    loss = -prob[torch.arange(num),ys].log().mean()\n",
    "    print(f\"Loss : {loss}\")\n",
    "\n",
    "    W1.grad = None\n",
    "    W2.grad = None\n",
    "    loss.backward()\n",
    "\n",
    "    W1.data += -0.5*W1.grad\n",
    "    W2.data += -0.5*W2.grad\n",
    "\n",
    "\n",
    "\n"
   ]
  },
  {
   "cell_type": "code",
   "execution_count": null,
   "metadata": {},
   "outputs": [],
   "source": [
    "torch.arange(18)\n",
    "print(prob)\n",
    "print(prob.shape)\n",
    "print(prob[torch.arange(18),ys])\n",
    "print(prob[3,ys[3]])"
   ]
  },
  {
   "cell_type": "code",
   "execution_count": null,
   "metadata": {},
   "outputs": [],
   "source": [
    "\n",
    "\n",
    "for i in range(1000):\n",
    "    logits = xenc[:,0,] @ W1 + xenc[:,1,] @ W2\n",
    "    counts = torch.exp(logits)\n",
    "    prob = counts / counts.sum()\n",
    "    idx = torch.multinomial(prob,num_samples=1,replacement=True,generator=generator)\n",
    "    loss = -prob[torch.arange(num),ys].log().mean()\n",
    "    print(f\"Loss : {loss}\")\n",
    "\n",
    "    W1.grad = None\n",
    "    W2.grad = None\n",
    "    loss.backward()\n",
    "\n",
    "    W1.data += -50*W1.grad\n",
    "    W2.data += -50*W2.grad\n",
    "\n",
    "\n",
    "\n"
   ]
  },
  {
   "cell_type": "code",
   "execution_count": null,
   "metadata": {},
   "outputs": [],
   "source": [
    "prob[ys[1]]"
   ]
  },
  {
   "cell_type": "code",
   "execution_count": null,
   "metadata": {},
   "outputs": [],
   "source": [
    "-prob[ys].log().mean()"
   ]
  },
  {
   "cell_type": "code",
   "execution_count": null,
   "metadata": {},
   "outputs": [],
   "source": [
    "\n",
    "for i in range(50):\n",
    "    out = []\n",
    "    idx1 = 0\n",
    "    idx2 = 1\n",
    "    while True:\n",
    "        logits = F.one_hot(torch.tensor(idx1), num_classes=54).float() @ W1 + F.one_hot(torch.tensor(idx2), num_classes=54).float() @ W2\n",
    "        counts = logits.exp()\n",
    "        prob = counts / counts.sum()\n",
    "        idx = torch.multinomial(prob,num_samples=1,replacement=True,generator=generator)\n",
    "        out.append(itos[idx.item()])\n",
    "        if idx == 0:\n",
    "            break\n",
    "        idx1 = idx2\n",
    "        idx2 = idx.item()\n",
    "    print(''.join(out))\n"
   ]
  },
  {
   "cell_type": "markdown",
   "metadata": {},
   "source": [
    "Makemore using MLP"
   ]
  },
  {
   "cell_type": "code",
   "execution_count": null,
   "metadata": {},
   "outputs": [],
   "source": [
    "import torch\n",
    "import torch.nn.functional as F\n",
    "with open(\"./first-names.txt\",\"r\") as f:\n",
    "    words = f.read().splitlines()\n",
    "\n",
    "words = [word for word in words if ' ' not in word]\n",
    "print(len(words))\n",
    "\n",
    "chars = sorted(list(set(''.join(words))))\n",
    "stoi = {s:i for i,s in enumerate(chars)}\n",
    "itos = {i:s for i,s in enumerate(chars)}\n",
    "\n",
    "stoi['.'] = 0\n",
    "itos[0] = '.'"
   ]
  },
  {
   "cell_type": "code",
   "execution_count": null,
   "metadata": {},
   "outputs": [],
   "source": [
    "len(stoi)"
   ]
  },
  {
   "cell_type": "code",
   "execution_count": null,
   "metadata": {},
   "outputs": [],
   "source": [
    "X , Y = [], []\n",
    "block_size = 3  #How much previous characters need to take\n",
    "\n",
    "for w in words:\n",
    "    w = w + '.'\n",
    "    context_list = [0] * 3\n",
    "    for c in w:\n",
    "        X.append(context_list)\n",
    "        Y.append(stoi[c])\n",
    "        context_list = context_list[1:] + [stoi[c]]\n",
    "    \n",
    "X = torch.tensor(X)\n",
    "Y = torch.tensor(Y)"
   ]
  },
  {
   "cell_type": "code",
   "execution_count": null,
   "metadata": {},
   "outputs": [],
   "source": [
    "X.shape"
   ]
  },
  {
   "cell_type": "code",
   "execution_count": null,
   "metadata": {},
   "outputs": [],
   "source": [
    "X[24]"
   ]
  },
  {
   "cell_type": "code",
   "execution_count": null,
   "metadata": {},
   "outputs": [],
   "source": [
    "emb = torch.randn((54,2))"
   ]
  },
  {
   "cell_type": "code",
   "execution_count": null,
   "metadata": {},
   "outputs": [],
   "source": [
    "emb[0]"
   ]
  },
  {
   "cell_type": "code",
   "execution_count": null,
   "metadata": {},
   "outputs": [],
   "source": [
    "emb = emb[X]\n",
    "emb.shape"
   ]
  },
  {
   "cell_type": "code",
   "execution_count": 1,
   "metadata": {},
   "outputs": [
    {
     "name": "stdout",
     "output_type": "stream",
     "text": [
      "4921\n",
      "53\n",
      "53\n"
     ]
    }
   ],
   "source": [
    "import torch\n",
    "import torch.nn.functional as F\n",
    "with open(\"./first-names.txt\",\"r\") as f:\n",
    "    words = f.read().splitlines()\n",
    "\n",
    "words = [word for word in words if ' ' not in word and '-' not in word]\n",
    "print(len(words))\n",
    "\n",
    "chars = sorted(list(set(''.join(words))))\n",
    "\n",
    "stoi = {s:i+1 for i,s in enumerate(chars)}\n",
    "itos = {i+1:s for i,s in enumerate(chars)}\n",
    "\n",
    "stoi['.'] = 0\n",
    "itos[0] = '.'\n",
    "\n",
    "print(len(stoi))\n",
    "print(len(itos))"
   ]
  },
  {
   "cell_type": "code",
   "execution_count": 2,
   "metadata": {},
   "outputs": [],
   "source": [
    "# words = words[:3]\n",
    "# print(words)"
   ]
  },
  {
   "cell_type": "code",
   "execution_count": 2,
   "metadata": {},
   "outputs": [
    {
     "name": "stdout",
     "output_type": "stream",
     "text": [
      "torch.Size([27962, 3])\n",
      "torch.Size([3486, 3])\n",
      "torch.Size([3446, 3])\n"
     ]
    }
   ],
   "source": [
    "def build_dataset(words):\n",
    "    X , Y = [], []\n",
    "    block_size = 3  #How much previous characters need to take\n",
    "\n",
    "    for w in words:\n",
    "        w = w + '.'\n",
    "        context_list = [0] * block_size\n",
    "        for c in w:\n",
    "            X.append(context_list)\n",
    "            Y.append(stoi[c])\n",
    "            context_list = context_list[1:] + [stoi[c]]\n",
    "        \n",
    "    X = torch.tensor(X)\n",
    "    Y = torch.tensor(Y)\n",
    "    return X, Y\n",
    "\n",
    "import random\n",
    "random.seed(32)\n",
    "random.shuffle(words)\n",
    "n1 = int(len(words)*0.8)\n",
    "n2 = int(len(words)*0.9)\n",
    "\n",
    "x_train, y_train = build_dataset(words[:n1])\n",
    "x_val, y_val = build_dataset(words[n1:n2])\n",
    "x_dev, y_dev = build_dataset(words[n2:])\n",
    "\n",
    "print(x_train.shape)\n",
    "print(x_val.shape)\n",
    "print(x_dev.shape)"
   ]
  },
  {
   "cell_type": "code",
   "execution_count": 3,
   "metadata": {},
   "outputs": [
    {
     "name": "stdout",
     "output_type": "stream",
     "text": [
      "Total Parameters : 21583\n"
     ]
    }
   ],
   "source": [
    "generator = torch.Generator().manual_seed(2147483647)\n",
    "C = torch.randn((53,10), generator=generator) #Lookup table\n",
    "W1 = torch.randn((30,250), generator=generator)\n",
    "W2 = torch.randn((250,53), generator=generator)\n",
    "b1 = torch.randn((250), generator=generator)\n",
    "b2 = torch.randn((53), generator=generator)\n",
    "\n",
    "params = [C,W1, b1, W2, b2]\n",
    "for p in params:\n",
    "    p.requires_grad = True\n",
    "total_params = sum(p.nelement() for p in params) #total params of this model\n",
    "\n",
    "print(f\"Total Parameters : {total_params}\")\n",
    "\n"
   ]
  },
  {
   "cell_type": "code",
   "execution_count": 7,
   "metadata": {},
   "outputs": [],
   "source": [
    "for _ in range(15000):\n",
    "    #minibatch for better performance\n",
    "    ix = torch.randint(0, x_train.shape[0],(32,)) # -- > batch size is 32\n",
    "\n",
    "    #Forward Pass\n",
    "    emb = C[x_train[ix]] #shape --> 34,3,2\n",
    "    emb = emb.view(-1,30)\n",
    "    h = torch.tanh(( emb @ W1 ) + b1)   # --> 34,100\n",
    "    logits = (h @ W2) + b2\n",
    "\n",
    "    loss = F.cross_entropy(logits,y_train[ix])\n",
    "\n",
    "    #Backward pass\n",
    "    for p in params:\n",
    "        p.grad = None\n",
    "\n",
    "    loss.backward()\n",
    "\n",
    "    #Update\n",
    "    for p in params:\n",
    "        p.data += -0.01 * p.grad\n",
    "\n"
   ]
  },
  {
   "cell_type": "code",
   "execution_count": 8,
   "metadata": {},
   "outputs": [
    {
     "name": "stdout",
     "output_type": "stream",
     "text": [
      "Train loss: 1.5891625881195068\n"
     ]
    }
   ],
   "source": [
    "#Total loss\n",
    "emb = C[x_train] #shape --> 34,3,2\n",
    "emb = emb.view(-1,30)\n",
    "h = torch.tanh(( emb @ W1 ) + b1)   # --> 34,100\n",
    "logits = (h @ W2) + b2\n",
    "\n",
    "loss = F.cross_entropy(logits,y_train)\n",
    "print(f\"Train loss: {loss}\")"
   ]
  },
  {
   "cell_type": "code",
   "execution_count": 9,
   "metadata": {},
   "outputs": [
    {
     "name": "stdout",
     "output_type": "stream",
     "text": [
      "Val loss: 2.0589640140533447\n"
     ]
    }
   ],
   "source": [
    "#Total loss\n",
    "emb = C[x_val] #shape --> 34,3,2\n",
    "emb = emb.view(-1,30)\n",
    "h = torch.tanh(( emb @ W1 ) + b1)   # --> 34,100\n",
    "logits = (h @ W2) + b2\n",
    "\n",
    "loss = F.cross_entropy(logits,y_val)\n",
    "print(f\"Val loss: {loss}\")"
   ]
  },
  {
   "cell_type": "code",
   "execution_count": 8,
   "metadata": {},
   "outputs": [
    {
     "data": {
      "image/png": "[encoded data removed]",
      "text/plain": [
       "<Figure size 800x800 with 1 Axes>"
      ]
     },
     "metadata": {},
     "output_type": "display_data"
    }
   ],
   "source": [
    "import matplotlib.pyplot as plt\n",
    "plt.figure(figsize=(8,8))\n",
    "plt.scatter(C[:,0].data, C[:,1].data, s=200)\n",
    "for i in range(C.shape[0]):\n",
    "    plt.text(C[i,0].item(), C[i,1].item(), itos[i], ha=\"center\", va=\"center\", color=\"white\")\n",
    "plt.grid('minor')"
   ]
  },
  {
   "cell_type": "code",
   "execution_count": 16,
   "metadata": {},
   "outputs": [
    {
     "name": "stdout",
     "output_type": "stream",
     "text": [
      "Ronnetta.\n",
      "Krisa.\n",
      "Bernandy.\n",
      "Anta.\n",
      "Karina.\n",
      "Diana.\n",
      "Kathrystanthellie.\n",
      "Maxy.\n",
      "Karlie.\n",
      "Shee.\n",
      "Zlina.\n",
      "Doree.\n",
      "Aile.\n",
      "Dionelle.\n",
      "Julia.\n",
      "Salanee.\n",
      "Robitheanon.\n",
      "Fannabellsa.\n",
      "Kitta.\n",
      "Doeanorten.\n"
     ]
    },
    {
     "name": "stderr",
     "output_type": "stream",
     "text": [
      "C:\\Users\\User\\AppData\\Local\\Temp\\ipykernel_14212\\1941866271.py:10: UserWarning: Implicit dimension choice for softmax has been deprecated. Change the call to include dim=X as an argument.\n",
      "  probs = F.softmax(logits)\n"
     ]
    }
   ],
   "source": [
    "g = torch.Generator().manual_seed(2147483647 + 11)\n",
    "\n",
    "for _ in range(20):\n",
    "    out = []\n",
    "    context = [0] * 3\n",
    "    while True:\n",
    "        emb = C[torch.tensor([context])]\n",
    "        h = torch.tanh(( emb.view(1,-1) @ W1 ) + b1)   # --> 34,100\n",
    "        logits = (h @ W2) + b2\n",
    "        probs = F.softmax(logits)\n",
    "        ix = torch.multinomial(probs, num_samples=1,generator=g)\n",
    "\n",
    "        out.append(ix)\n",
    "        context = context[1:] + [ix]\n",
    "        if ix == 0:\n",
    "            break\n",
    "    \n",
    "    print(''.join(itos[i.item()] for i in out))\n",
    "        "
   ]
  },
  {
   "cell_type": "code",
   "execution_count": null,
   "metadata": {},
   "outputs": [],
   "source": []
  }
 ],
 "metadata": {
  "kernelspec": {
   "display_name": "test",
   "language": "python",
   "name": "python3"
  },
  "language_info": {
   "codemirror_mode": {
    "name": "ipython",
    "version": 3
   },
   "file_extension": ".py",
   "mimetype": "text/x-python",
   "name": "python",
   "nbconvert_exporter": "python",
   "pygments_lexer": "ipython3",
   "version": "3.9.13"
  }
 },
 "nbformat": 4,
 "nbformat_minor": 2
}
